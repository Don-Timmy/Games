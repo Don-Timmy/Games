{
 "cells": [
  {
   "cell_type": "markdown",
   "metadata": {},
   "source": [
    "# 'Dragon Realm' Source Code\n",
    "\n",
    "You are in a land full of dragons. In front of you,\n",
    "you see two caves. In one cave, the dragon is freindly\n",
    "and will share his treasure with you. The other dragon\n",
    "is greedy and hungry, and will eat you on sight!"
   ]
  },
  {
   "cell_type": "code",
   "execution_count": 1,
   "metadata": {},
   "outputs": [],
   "source": [
    "def DragonRealm():\n",
    "    import random\n",
    "    import time\n",
    "\n",
    "    def sleep():\n",
    "        time.sleep(3)\n",
    "\n",
    "    def displayIntro():\n",
    "        #this function displays the message introducing the game\n",
    "        print(\"You are in a land full of dragons. In front of you,\\nyou see two caves. In one cave, the dragon is freindly\\nand will share his treasure with you. The other dragon\\nis greedy and hungry, and will eat you on sight!\")\n",
    "        print()\n",
    "    \n",
    "    def chooseCave():\n",
    "        #function that takes the choice of the player\n",
    "        #is he going to enter Cave 1 or 2\n",
    "        cave = ''\n",
    "        while cave != '1' and cave != '2':\n",
    "            cave = input(\"Which cave will you go into? (1 or 2)\")\n",
    "        return cave\n",
    "                     \n",
    "    def checkCave(chosenCave):\n",
    "        #function that checks the status of the chosen cave\n",
    "        print(\"You approach the cave...\")\n",
    "        sleep()\n",
    "        print('It is dark and spooky...')\n",
    "        sleep()\n",
    "        print(\"A large dragon jumps out in front of you! He opens his jaws and...\")\n",
    "        print()\n",
    "        time.sleep(5)\n",
    "    \n",
    "        friendlyCave = random.randint(1, 2)\n",
    "                     \n",
    "        if chosenCave == str(friendlyCave):\n",
    "            print(\"Gives you his treasure!\")\n",
    "        else:\n",
    "            print(\"Gobbles you down in one bite!\")\n",
    "        \n",
    "    playAgain = 'yes'\n",
    "    while playAgain == 'yes' or playAgain == 'y':\n",
    "        displayIntro()\n",
    "        caveNumber = chooseCave()\n",
    "        checkCave(caveNumber)\n",
    "        print()\n",
    "    \n",
    "        playAgain = input(\"Do you want to play again? (yes or no)\")\n",
    "                     "
   ]
  }
 ],
 "metadata": {
  "kernelspec": {
   "display_name": "Python 3",
   "language": "python",
   "name": "python3"
  },
  "language_info": {
   "codemirror_mode": {
    "name": "ipython",
    "version": 3
   },
   "file_extension": ".py",
   "mimetype": "text/x-python",
   "name": "python",
   "nbconvert_exporter": "python",
   "pygments_lexer": "ipython3",
   "version": "3.7.3"
  }
 },
 "nbformat": 4,
 "nbformat_minor": 4
}
