{
 "cells": [
  {
   "cell_type": "markdown",
   "metadata": {},
   "source": [
    "# The 'Guess The Number Game'"
   ]
  },
  {
   "cell_type": "markdown",
   "metadata": {},
   "source": [
    "    The computer thinks of a random number from 1 to 20\n",
    "    It asks you to guess the number. You have six tries and in each \n",
    "    try, the computer will tell you if your guess is high or low..."
   ]
  },
  {
   "cell_type": "code",
   "execution_count": 15,
   "metadata": {},
   "outputs": [],
   "source": [
    "def GuessGame():\n",
    "    #this is a guess the number game\n",
    "    import random\n",
    "\n",
    "    guessesTaken = 0 #initialize guess count\n",
    "\n",
    "    myName = input(\"Hi!, What's your name?\")\n",
    "\n",
    "    print(\"Well,\" + myName + \", I am thinking of a number between 1 and 20\")\n",
    "\n",
    "    number = random.randint(1, 20)\n",
    "\n",
    "    while guessesTaken < 6:\n",
    "        \n",
    "        print()\n",
    "    \n",
    "        guess = int(input(\"Guess the number I am thinking?\"))\n",
    "    \n",
    "        guessesTaken += 1\n",
    "    \n",
    "        if guess < number:\n",
    "            print(\"Your guess is too low\")\n",
    "        \n",
    "        if guess > number:\n",
    "            print(\"Your guess is too high\")\n",
    "        \n",
    "        if guess == number:\n",
    "            break\n",
    "        \n",
    "    if guess == number:\n",
    "        print(\"Good Job, \" + myName + \"! You guessed my number in \" + str(guessesTaken) + \" guesses\")\n",
    "        \n",
    "    if guess != number:\n",
    "        print(\"Nope. \" + \"The number I was thinking of was \" + str(number))"
   ]
  },
  {
   "cell_type": "code",
   "execution_count": 17,
   "metadata": {},
   "outputs": [],
   "source": [
    "GuessGame()"
   ]
  }
 ],
 "metadata": {
  "kernelspec": {
   "display_name": "Python 3",
   "language": "python",
   "name": "python3"
  },
  "language_info": {
   "codemirror_mode": {
    "name": "ipython",
    "version": 3
   },
   "file_extension": ".py",
   "mimetype": "text/x-python",
   "name": "python",
   "nbconvert_exporter": "python",
   "pygments_lexer": "ipython3",
   "version": "3.7.3"
  }
 },
 "nbformat": 4,
 "nbformat_minor": 4
}
